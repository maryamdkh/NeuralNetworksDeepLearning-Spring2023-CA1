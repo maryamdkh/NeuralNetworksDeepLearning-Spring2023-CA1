{
  "nbformat": 4,
  "nbformat_minor": 0,
  "metadata": {
    "colab": {
      "provenance": []
    },
    "kernelspec": {
      "name": "python3",
      "display_name": "Python 3"
    },
    "language_info": {
      "name": "python"
    }
  },
  "cells": [
    {
      "cell_type": "code",
      "execution_count": 1,
      "metadata": {
        "id": "oU8TMmsyq4Ta"
      },
      "outputs": [],
      "source": [
        "import numpy as np\n",
        "import matplotlib.pyplot as plt\n",
        "import pandas as pd\n",
        "import os\n",
        "import tensorflow as tf\n",
        "from tensorflow.keras.utils import to_categorical\n",
        "from tensorflow import keras\n",
        "from tensorflow.keras import layers\n",
        "from tensorflow.keras.models import Sequential\n",
        "from sklearn.metrics import ConfusionMatrixDisplay\n",
        "from sklearn.metrics import confusion_matrix"
      ]
    },
    {
      "cell_type": "code",
      "source": [
        "current_dir = os.getcwd()\n",
        "(X_train, Y_train), (X_test, Y_test) = tf.keras.datasets.mnist.load_data(path=current_dir+'/mnist.npz')"
      ],
      "metadata": {
        "id": "m8LB7qPVrcMX",
        "colab": {
          "base_uri": "https://localhost:8080/"
        },
        "outputId": "50fb3b0d-41c0-4564-82c9-b8f39fa69a7e"
      },
      "execution_count": 2,
      "outputs": [
        {
          "output_type": "stream",
          "name": "stdout",
          "text": [
            "Downloading data from https://storage.googleapis.com/tensorflow/tf-keras-datasets/mnist.npz\n",
            "11490434/11490434 [==============================] - 0s 0us/step\n"
          ]
        }
      ]
    },
    {
      "cell_type": "code",
      "source": [
        "print('MNIST Dataset Shape:')\n",
        "print('X_train: ' + str(X_train.shape))\n",
        "print('Y_train: ' + str(Y_train.shape))\n",
        "print('X_test:  '  + str(X_test.shape))\n",
        "print('Y_test:  '  + str(Y_test.shape))"
      ],
      "metadata": {
        "colab": {
          "base_uri": "https://localhost:8080/"
        },
        "id": "G9lA1fpFrh61",
        "outputId": "e67e3583-b085-4cf2-8477-70972bb13d18"
      },
      "execution_count": 3,
      "outputs": [
        {
          "output_type": "stream",
          "name": "stdout",
          "text": [
            "MNIST Dataset Shape:\n",
            "X_train: (60000, 28, 28)\n",
            "Y_train: (60000,)\n",
            "X_test:  (10000, 28, 28)\n",
            "Y_test:  (10000,)\n"
          ]
        }
      ]
    },
    {
      "cell_type": "code",
      "source": [
        "counts = np.bincount(Y_train)\n",
        "\n",
        "\n",
        "fig, ax = plt.subplots(figsize=(10,5))\n",
        "ax.bar(range(10), counts, width=0.8, align='center')\n",
        "ax.set(xticks=range(10), xlim=[-1, 10], title='Training data distribution',ylabel=\"Count\")\n",
        "\n",
        "plt.show()"
      ],
      "metadata": {
        "colab": {
          "base_uri": "https://localhost:8080/",
          "height": 336
        },
        "id": "I056SOOzrlKe",
        "outputId": "2f65b27a-ef14-4ac6-e584-4a5fc41d6c92"
      },
      "execution_count": 4,
      "outputs": [
        {
          "output_type": "display_data",
          "data": {
            "text/plain": [
              "<Figure size 720x360 with 1 Axes>"
            ],
            "image/png": "[encoded data removed]"
          },
          "metadata": {
            "needs_background": "light"
          }
        }
      ]
    },
    {
      "cell_type": "code",
      "source": [
        "def display_mnist_samples(image_array,\n",
        "                          size=5,\n",
        "                          figsize=(10,10),\n",
        "                          **imshow_kwargs):\n",
        "    number_of_samples = image_array.shape[0]\n",
        "    random_indices = np.random.choice(number_of_samples, \n",
        "                                      size=size, \n",
        "                                      replace=False)\n",
        "\n",
        "    fig, axes = plt.subplots(np.abs((size/3)+1).astype(int), 3, figsize=figsize)\n",
        "    \n",
        "    \n",
        "    for i in range(np.abs((size/3)+1).astype(int)):  \n",
        "        for j in range(3):\n",
        "            axes[i, j].imshow(\n",
        "                image_array[random_indices[i+j], :, :],\n",
        "                cmap = imshow_kwargs.get('cmap', None),\n",
        "                norm = imshow_kwargs.get('norm', None),\n",
        "                aspect = imshow_kwargs.get('aspect', None),\n",
        "                interpolation = imshow_kwargs.get('interpolation', None),\n",
        "                alpha = imshow_kwargs.get('alpha', None),\n",
        "                vmin = imshow_kwargs.get('vmin', None),\n",
        "                vmax = imshow_kwargs.get('vmax', None),\n",
        "                origin = imshow_kwargs.get('origin', None),\n",
        "                extent = imshow_kwargs.get('extent', None),\n",
        "                filternorm = imshow_kwargs.get('filternorm', 1),\n",
        "                filterrad = imshow_kwargs.get('filterrad', 4.0),\n",
        "                resample = imshow_kwargs.get('resample', None),\n",
        "                url = imshow_kwargs.get('url', None)\n",
        "            )"
      ],
      "metadata": {
        "id": "df-tcbiYrqRl"
      },
      "execution_count": 5,
      "outputs": []
    },
    {
      "cell_type": "code",
      "source": [
        "display_mnist_samples(X_train)"
      ],
      "metadata": {
        "id": "Akhfm0zgruD9",
        "colab": {
          "base_uri": "https://localhost:8080/",
          "height": 510
        },
        "outputId": "c2c09e28-0dcc-47f5-bc0c-f492235219a5"
      },
      "execution_count": 6,
      "outputs": [
        {
          "output_type": "display_data",
          "data": {
            "text/plain": [
              "<Figure size 720x720 with 6 Axes>"
            ],
            "image/png": "[encoded data removed]"
          },
          "metadata": {
            "needs_background": "light"
          }
        }
      ]
    },
    {
      "cell_type": "code",
      "source": [
        "X_train = np.reshape(X_train, (-1, 784))\n",
        "X_test = np.reshape(X_test, (-1, 784))"
      ],
      "metadata": {
        "id": "LtrB2Vn8rycd"
      },
      "execution_count": 7,
      "outputs": []
    },
    {
      "cell_type": "code",
      "source": [
        "print('MNIST Dataset Shape:')\n",
        "print('X_train: ' + str(X_train.shape))\n",
        "print('X_test:  '  + str(X_test.shape))\n"
      ],
      "metadata": {
        "colab": {
          "base_uri": "https://localhost:8080/"
        },
        "id": "viAEIK6Xr2Wk",
        "outputId": "e1c2baf0-a48c-4b5b-882f-68940b5eafac"
      },
      "execution_count": 8,
      "outputs": [
        {
          "output_type": "stream",
          "name": "stdout",
          "text": [
            "MNIST Dataset Shape:\n",
            "X_train: (60000, 784)\n",
            "X_test:  (10000, 784)\n"
          ]
        }
      ]
    },
    {
      "cell_type": "code",
      "source": [
        "# normalize\n",
        "X_train = X_train.astype('float32') / 255\n",
        "X_test = X_test.astype('float32') / 255\n",
        "\n",
        "#Converting the labels into a one-hot vector\n",
        "Y_train = to_categorical(Y_train)\n",
        "Y_test = to_categorical(Y_test)\n"
      ],
      "metadata": {
        "id": "hceQSL_9r7IY"
      },
      "execution_count": 9,
      "outputs": []
    },
    {
      "cell_type": "code",
      "source": [
        "encoding_dim = 30\n",
        "input_img = keras.Input(shape=(784,))\n",
        "\n",
        "encoded = layers.Dense(500,activation='relu')(input_img)\n",
        "encoded = layers.Dense(100,activation='relu')(encoded)\n",
        "encoded = layers.Dense(encoding_dim,activation='relu')(encoded)\n",
        "\n",
        "decoded = layers.Dense(100,activation='relu')(encoded)\n",
        "decoded = layers.Dense(500,activation='relu')(decoded)\n",
        "decoded = layers.Dense(784, activation='sigmoid')(decoded)\n",
        "\n",
        "autoencoder = keras.Model(input_img, decoded)"
      ],
      "metadata": {
        "id": "7YGIgyJ3sBaq"
      },
      "execution_count": 10,
      "outputs": []
    },
    {
      "cell_type": "markdown",
      "source": [
        "Let's also create a separate encoder & decoder model:\n",
        "\n"
      ],
      "metadata": {
        "id": "uvFOLQzhstet"
      }
    },
    {
      "cell_type": "code",
      "source": [
        "encoder = keras.Model(input_img,encoded)"
      ],
      "metadata": {
        "id": "JAJRhCdEsqFU"
      },
      "execution_count": 11,
      "outputs": []
    },
    {
      "cell_type": "code",
      "source": [
        "encoded_input = keras.Input(shape=(encoding_dim,))\n",
        "\n",
        "decoder_layer = autoencoder.layers[-3](encoded_input)\n",
        "decoder_layer = autoencoder.layers[-2](decoder_layer)\n",
        "decoder_layer = autoencoder.layers[-1](decoder_layer)\n",
        "\n",
        "decoder = keras.Model(encoded_input, decoder_layer)"
      ],
      "metadata": {
        "id": "yT31w5Hes6rf"
      },
      "execution_count": 12,
      "outputs": []
    },
    {
      "cell_type": "markdown",
      "source": [
        "Now let's train our autoencoder to reconstruct MNIST digits.\n",
        "\n",
        "First, we'll configure our model to use a per-pixel binary crossentropy loss, and the Adam optimizer:"
      ],
      "metadata": {
        "id": "1sFHQuA_uQEt"
      }
    },
    {
      "cell_type": "code",
      "source": [
        "autoencoder.compile(optimizer='adam', loss='binary_crossentropy')\n"
      ],
      "metadata": {
        "id": "CRK1mc6GuLnE"
      },
      "execution_count": 13,
      "outputs": []
    },
    {
      "cell_type": "code",
      "source": [
        "history = autoencoder.fit(X_train, X_train,\n",
        "                epochs=70,\n",
        "                batch_size=256,\n",
        "                shuffle=True,\n",
        "                validation_data=(X_test, X_test))"
      ],
      "metadata": {
        "colab": {
          "base_uri": "https://localhost:8080/"
        },
        "id": "70L65goMuWOn",
        "outputId": "540370d7-c58a-4a7c-8199-422f66e7ae0f"
      },
      "execution_count": 14,
      "outputs": [
        {
          "output_type": "stream",
          "name": "stdout",
          "text": [
            "Epoch 1/70\n",
            "235/235 [==============================] - 11s 38ms/step - loss: 0.2084 - val_loss: 0.1358\n",
            "Epoch 2/70\n",
            "235/235 [==============================] - 10s 43ms/step - loss: 0.1240 - val_loss: 0.1136\n",
            "Epoch 3/70\n",
            "235/235 [==============================] - 11s 45ms/step - loss: 0.1098 - val_loss: 0.1046\n",
            "Epoch 4/70\n",
            "235/235 [==============================] - 10s 44ms/step - loss: 0.1028 - val_loss: 0.0997\n",
            "Epoch 5/70\n",
            "235/235 [==============================] - 10s 41ms/step - loss: 0.0988 - val_loss: 0.0966\n",
            "Epoch 6/70\n",
            "235/235 [==============================] - 9s 40ms/step - loss: 0.0960 - val_loss: 0.0946\n",
            "Epoch 7/70\n",
            "235/235 [==============================] - 10s 42ms/step - loss: 0.0936 - val_loss: 0.0921\n",
            "Epoch 8/70\n",
            "235/235 [==============================] - 10s 41ms/step - loss: 0.0917 - val_loss: 0.0906\n",
            "Epoch 9/70\n",
            "235/235 [==============================] - 9s 40ms/step - loss: 0.0903 - val_loss: 0.0893\n",
            "Epoch 10/70\n",
            "235/235 [==============================] - 9s 38ms/step - loss: 0.0892 - val_loss: 0.0884\n",
            "Epoch 11/70\n",
            "235/235 [==============================] - 10s 43ms/step - loss: 0.0882 - val_loss: 0.0876\n",
            "Epoch 12/70\n",
            "235/235 [==============================] - 10s 42ms/step - loss: 0.0874 - val_loss: 0.0868\n",
            "Epoch 13/70\n",
            "235/235 [==============================] - 9s 39ms/step - loss: 0.0867 - val_loss: 0.0863\n",
            "Epoch 14/70\n",
            "235/235 [==============================] - 9s 38ms/step - loss: 0.0861 - val_loss: 0.0859\n",
            "Epoch 15/70\n",
            "235/235 [==============================] - 10s 41ms/step - loss: 0.0856 - val_loss: 0.0853\n",
            "Epoch 16/70\n",
            "235/235 [==============================] - 10s 41ms/step - loss: 0.0851 - val_loss: 0.0849\n",
            "Epoch 17/70\n",
            "235/235 [==============================] - 9s 40ms/step - loss: 0.0847 - val_loss: 0.0845\n",
            "Epoch 18/70\n",
            "235/235 [==============================] - 9s 39ms/step - loss: 0.0843 - val_loss: 0.0846\n",
            "Epoch 19/70\n",
            "235/235 [==============================] - 10s 42ms/step - loss: 0.0840 - val_loss: 0.0842\n",
            "Epoch 20/70\n",
            "235/235 [==============================] - 10s 42ms/step - loss: 0.0836 - val_loss: 0.0839\n",
            "Epoch 21/70\n",
            "235/235 [==============================] - 9s 40ms/step - loss: 0.0833 - val_loss: 0.0838\n",
            "Epoch 22/70\n",
            "235/235 [==============================] - 9s 37ms/step - loss: 0.0831 - val_loss: 0.0833\n",
            "Epoch 23/70\n",
            "235/235 [==============================] - 10s 42ms/step - loss: 0.0828 - val_loss: 0.0831\n",
            "Epoch 24/70\n",
            "235/235 [==============================] - 10s 42ms/step - loss: 0.0826 - val_loss: 0.0831\n",
            "Epoch 25/70\n",
            "235/235 [==============================] - 10s 42ms/step - loss: 0.0824 - val_loss: 0.0830\n",
            "Epoch 26/70\n",
            "235/235 [==============================] - 9s 37ms/step - loss: 0.0822 - val_loss: 0.0827\n",
            "Epoch 27/70\n",
            "235/235 [==============================] - 10s 42ms/step - loss: 0.0820 - val_loss: 0.0826\n",
            "Epoch 28/70\n",
            "235/235 [==============================] - 10s 42ms/step - loss: 0.0818 - val_loss: 0.0823\n",
            "Epoch 29/70\n",
            "235/235 [==============================] - 9s 39ms/step - loss: 0.0816 - val_loss: 0.0822\n",
            "Epoch 30/70\n",
            "235/235 [==============================] - 9s 40ms/step - loss: 0.0815 - val_loss: 0.0822\n",
            "Epoch 31/70\n",
            "235/235 [==============================] - 10s 41ms/step - loss: 0.0814 - val_loss: 0.0819\n",
            "Epoch 32/70\n",
            "235/235 [==============================] - 10s 41ms/step - loss: 0.0812 - val_loss: 0.0820\n",
            "Epoch 33/70\n",
            "235/235 [==============================] - 9s 36ms/step - loss: 0.0810 - val_loss: 0.0824\n",
            "Epoch 34/70\n",
            "235/235 [==============================] - 9s 40ms/step - loss: 0.0809 - val_loss: 0.0817\n",
            "Epoch 35/70\n",
            "235/235 [==============================] - 9s 40ms/step - loss: 0.0806 - val_loss: 0.0812\n",
            "Epoch 36/70\n",
            "235/235 [==============================] - 10s 41ms/step - loss: 0.0804 - val_loss: 0.0810\n",
            "Epoch 37/70\n",
            "235/235 [==============================] - 8s 36ms/step - loss: 0.0801 - val_loss: 0.0809\n",
            "Epoch 38/70\n",
            "235/235 [==============================] - 9s 40ms/step - loss: 0.0801 - val_loss: 0.0810\n",
            "Epoch 39/70\n",
            "235/235 [==============================] - 10s 41ms/step - loss: 0.0799 - val_loss: 0.0808\n",
            "Epoch 40/70\n",
            "235/235 [==============================] - 9s 40ms/step - loss: 0.0797 - val_loss: 0.0806\n",
            "Epoch 41/70\n",
            "235/235 [==============================] - 9s 37ms/step - loss: 0.0796 - val_loss: 0.0806\n",
            "Epoch 42/70\n",
            "235/235 [==============================] - 9s 40ms/step - loss: 0.0795 - val_loss: 0.0807\n",
            "Epoch 43/70\n",
            "235/235 [==============================] - 10s 41ms/step - loss: 0.0794 - val_loss: 0.0805\n",
            "Epoch 44/70\n",
            "235/235 [==============================] - 8s 35ms/step - loss: 0.0793 - val_loss: 0.0802\n",
            "Epoch 45/70\n",
            "235/235 [==============================] - 10s 41ms/step - loss: 0.0792 - val_loss: 0.0804\n",
            "Epoch 46/70\n",
            "235/235 [==============================] - 9s 40ms/step - loss: 0.0791 - val_loss: 0.0803\n",
            "Epoch 47/70\n",
            "235/235 [==============================] - 9s 39ms/step - loss: 0.0790 - val_loss: 0.0802\n",
            "Epoch 48/70\n",
            "235/235 [==============================] - 8s 36ms/step - loss: 0.0790 - val_loss: 0.0801\n",
            "Epoch 49/70\n",
            "235/235 [==============================] - 10s 41ms/step - loss: 0.0789 - val_loss: 0.0802\n",
            "Epoch 50/70\n",
            "235/235 [==============================] - 9s 40ms/step - loss: 0.0788 - val_loss: 0.0799\n",
            "Epoch 51/70\n",
            "235/235 [==============================] - 8s 35ms/step - loss: 0.0787 - val_loss: 0.0800\n",
            "Epoch 52/70\n",
            "235/235 [==============================] - 9s 40ms/step - loss: 0.0786 - val_loss: 0.0799\n",
            "Epoch 53/70\n",
            "235/235 [==============================] - 9s 40ms/step - loss: 0.0785 - val_loss: 0.0801\n",
            "Epoch 54/70\n",
            "235/235 [==============================] - 10s 41ms/step - loss: 0.0785 - val_loss: 0.0798\n",
            "Epoch 55/70\n",
            "235/235 [==============================] - 8s 35ms/step - loss: 0.0785 - val_loss: 0.0799\n",
            "Epoch 56/70\n",
            "235/235 [==============================] - 10s 41ms/step - loss: 0.0784 - val_loss: 0.0798\n",
            "Epoch 57/70\n",
            "235/235 [==============================] - 9s 40ms/step - loss: 0.0783 - val_loss: 0.0798\n",
            "Epoch 58/70\n",
            "235/235 [==============================] - 9s 39ms/step - loss: 0.0783 - val_loss: 0.0796\n",
            "Epoch 59/70\n",
            "235/235 [==============================] - 9s 37ms/step - loss: 0.0782 - val_loss: 0.0796\n",
            "Epoch 60/70\n",
            "235/235 [==============================] - 10s 41ms/step - loss: 0.0782 - val_loss: 0.0798\n",
            "Epoch 61/70\n",
            "235/235 [==============================] - 9s 40ms/step - loss: 0.0781 - val_loss: 0.0796\n",
            "Epoch 62/70\n",
            "235/235 [==============================] - 8s 35ms/step - loss: 0.0781 - val_loss: 0.0797\n",
            "Epoch 63/70\n",
            "235/235 [==============================] - 10s 41ms/step - loss: 0.0780 - val_loss: 0.0796\n",
            "Epoch 64/70\n",
            "235/235 [==============================] - 9s 40ms/step - loss: 0.0780 - val_loss: 0.0799\n",
            "Epoch 65/70\n",
            "235/235 [==============================] - 9s 40ms/step - loss: 0.0779 - val_loss: 0.0799\n",
            "Epoch 66/70\n",
            "235/235 [==============================] - 8s 35ms/step - loss: 0.0779 - val_loss: 0.0795\n",
            "Epoch 67/70\n",
            "235/235 [==============================] - 9s 40ms/step - loss: 0.0778 - val_loss: 0.0795\n",
            "Epoch 68/70\n",
            "235/235 [==============================] - 9s 40ms/step - loss: 0.0778 - val_loss: 0.0795\n",
            "Epoch 69/70\n",
            "235/235 [==============================] - 8s 35ms/step - loss: 0.0777 - val_loss: 0.0794\n",
            "Epoch 70/70\n",
            "235/235 [==============================] - 9s 40ms/step - loss: 0.0777 - val_loss: 0.0796\n"
          ]
        }
      ]
    },
    {
      "cell_type": "code",
      "source": [
        "plt.plot(history.history['loss'])\n",
        "plt.plot(history.history['val_loss'])\n",
        "plt.title('model loss')\n",
        "plt.ylabel('loss')\n",
        "plt.xlabel('epoch')\n",
        "plt.legend(['train', 'val'], loc='upper left')\n",
        "plt.show()"
      ],
      "metadata": {
        "colab": {
          "base_uri": "https://localhost:8080/",
          "height": 295
        },
        "id": "MxiC9RBwGdTL",
        "outputId": "c7c37a66-0e31-46e4-8aa7-12ca653bd5f9"
      },
      "execution_count": 15,
      "outputs": [
        {
          "output_type": "display_data",
          "data": {
            "text/plain": [
              "<Figure size 432x288 with 1 Axes>"
            ],
            "image/png": "[encoded data removed]"
          },
          "metadata": {
            "needs_background": "light"
          }
        }
      ]
    },
    {
      "cell_type": "code",
      "source": [
        "encoded_imgs = encoder.predict(X_test)\n",
        "decoded_imgs = decoder.predict(encoded_imgs)"
      ],
      "metadata": {
        "colab": {
          "base_uri": "https://localhost:8080/"
        },
        "id": "cpjUDIFgwBOu",
        "outputId": "b11f90e4-147a-4855-8f16-5073579de281"
      },
      "execution_count": 16,
      "outputs": [
        {
          "output_type": "stream",
          "name": "stdout",
          "text": [
            "313/313 [==============================] - 1s 2ms/step\n",
            "313/313 [==============================] - 1s 3ms/step\n"
          ]
        }
      ]
    },
    {
      "cell_type": "code",
      "source": [
        "n = 10  # How many digits we will display\n",
        "plt.figure(figsize=(20, 4))\n",
        "for i in range(n):\n",
        "    # Display original\n",
        "    ax = plt.subplot(2, n, i + 1)\n",
        "    plt.imshow(X_test[i].reshape(28, 28))\n",
        "    plt.gray()\n",
        "    ax.get_xaxis().set_visible(False)\n",
        "    ax.get_yaxis().set_visible(False)\n",
        "\n",
        "    # Display reconstruction\n",
        "    ax = plt.subplot(2, n, i + 1 + n)\n",
        "    plt.imshow(decoded_imgs[i].reshape(28, 28))\n",
        "    plt.gray()\n",
        "    ax.get_xaxis().set_visible(False)\n",
        "    ax.get_yaxis().set_visible(False)\n",
        "plt.show()"
      ],
      "metadata": {
        "colab": {
          "base_uri": "https://localhost:8080/",
          "height": 248
        },
        "id": "1sBxNNoFwFKM",
        "outputId": "0b5fd926-e39c-44f3-90d0-0eac1264ed39"
      },
      "execution_count": 17,
      "outputs": [
        {
          "output_type": "display_data",
          "data": {
            "text/plain": [
              "<Figure size 1440x288 with 20 Axes>"
            ],
            "image/png": "[encoded data removed]"
          },
          "metadata": {
            "needs_background": "light"
          }
        }
      ]
    },
    {
      "cell_type": "code",
      "source": [
        "classifier = Sequential()\n",
        "classifier.add(layers.Dense(20, input_shape=(encoding_dim,), activation='relu'))\n",
        "classifier.add(layers.Dense(15, activation='relu'))\n",
        "classifier.add(layers.Dense(10, activation='sigmoid'))"
      ],
      "metadata": {
        "id": "-_90CVK5_BUu"
      },
      "execution_count": 18,
      "outputs": []
    },
    {
      "cell_type": "code",
      "source": [
        "def perplexity(y_true, y_pred):\n",
        "    cross_entropy = keras.backend.categorical_crossentropy(y_true, y_pred)\n",
        "    perplexity = keras.backend.exp(cross_entropy)\n",
        "    return perplexity"
      ],
      "metadata": {
        "id": "gC7lSQdDNJpd"
      },
      "execution_count": 19,
      "outputs": []
    },
    {
      "cell_type": "code",
      "source": [
        "classifier.compile(loss=perplexity, optimizer='adam', metrics=['accuracy'])"
      ],
      "metadata": {
        "id": "xEuVhSYgI8v9"
      },
      "execution_count": 20,
      "outputs": []
    },
    {
      "cell_type": "code",
      "source": [
        "encoded_imgs_train = encoder.predict(X_train)\n",
        "encoded_imgs_test = encoder.predict(X_test)"
      ],
      "metadata": {
        "colab": {
          "base_uri": "https://localhost:8080/"
        },
        "id": "lZN-UbKyKfoZ",
        "outputId": "67b74581-c17c-42fd-99cf-08e8f166ebbf"
      },
      "execution_count": 21,
      "outputs": [
        {
          "output_type": "stream",
          "name": "stdout",
          "text": [
            "1875/1875 [==============================] - 10s 5ms/step\n",
            "313/313 [==============================] - 1s 2ms/step\n"
          ]
        }
      ]
    },
    {
      "cell_type": "code",
      "source": [
        "classifier_hist = classifier.fit(encoded_imgs_train, Y_train, epochs=150, batch_size=256,validation_data=(encoded_imgs_test, Y_test))"
      ],
      "metadata": {
        "colab": {
          "base_uri": "https://localhost:8080/"
        },
        "id": "BrEkFYzsKBYe",
        "outputId": "439f9dca-f4db-47b0-b6ee-71049d51f474"
      },
      "execution_count": 22,
      "outputs": [
        {
          "output_type": "stream",
          "name": "stdout",
          "text": [
            "Epoch 1/150\n",
            "235/235 [==============================] - 1s 3ms/step - loss: 2330253.0000 - accuracy: 0.0567 - val_loss: 188.4319 - val_accuracy: 0.0329\n",
            "Epoch 2/150\n",
            "235/235 [==============================] - 1s 5ms/step - loss: 114.5444 - accuracy: 0.0247 - val_loss: 73.9078 - val_accuracy: 0.0371\n",
            "Epoch 3/150\n",
            "235/235 [==============================] - 1s 3ms/step - loss: 59.6033 - accuracy: 0.0494 - val_loss: 42.0568 - val_accuracy: 0.0577\n",
            "Epoch 4/150\n",
            "235/235 [==============================] - 1s 2ms/step - loss: 37.5540 - accuracy: 0.0617 - val_loss: 30.1520 - val_accuracy: 0.0668\n",
            "Epoch 5/150\n",
            "235/235 [==============================] - 1s 2ms/step - loss: 27.5557 - accuracy: 0.0844 - val_loss: 20.9354 - val_accuracy: 0.1093\n",
            "Epoch 6/150\n",
            "235/235 [==============================] - 1s 2ms/step - loss: 19.3124 - accuracy: 0.1516 - val_loss: 16.0468 - val_accuracy: 0.1789\n",
            "Epoch 7/150\n",
            "235/235 [==============================] - 1s 2ms/step - loss: 16.1627 - accuracy: 0.1887 - val_loss: 14.5106 - val_accuracy: 0.2168\n",
            "Epoch 8/150\n",
            "235/235 [==============================] - 1s 2ms/step - loss: 14.6965 - accuracy: 0.2161 - val_loss: 13.3539 - val_accuracy: 0.2306\n",
            "Epoch 9/150\n",
            "235/235 [==============================] - 1s 2ms/step - loss: 13.7224 - accuracy: 0.2332 - val_loss: 12.6318 - val_accuracy: 0.2483\n",
            "Epoch 10/150\n",
            "235/235 [==============================] - 1s 2ms/step - loss: 13.0045 - accuracy: 0.2476 - val_loss: 12.0280 - val_accuracy: 0.2600\n",
            "Epoch 11/150\n",
            "235/235 [==============================] - 1s 3ms/step - loss: 12.3948 - accuracy: 0.2585 - val_loss: 11.5499 - val_accuracy: 0.2623\n",
            "Epoch 12/150\n",
            "235/235 [==============================] - 1s 3ms/step - loss: 11.8945 - accuracy: 0.2675 - val_loss: 11.2005 - val_accuracy: 0.2656\n",
            "Epoch 13/150\n",
            "235/235 [==============================] - 1s 3ms/step - loss: 11.4443 - accuracy: 0.2767 - val_loss: 10.7135 - val_accuracy: 0.2887\n",
            "Epoch 14/150\n",
            "235/235 [==============================] - 1s 3ms/step - loss: 11.0051 - accuracy: 0.2834 - val_loss: 10.2890 - val_accuracy: 0.2979\n",
            "Epoch 15/150\n",
            "235/235 [==============================] - 1s 3ms/step - loss: 10.6130 - accuracy: 0.2943 - val_loss: 9.9833 - val_accuracy: 0.2973\n",
            "Epoch 16/150\n",
            "235/235 [==============================] - 1s 2ms/step - loss: 10.2809 - accuracy: 0.3004 - val_loss: 9.6636 - val_accuracy: 0.3134\n",
            "Epoch 17/150\n",
            "235/235 [==============================] - 1s 2ms/step - loss: 9.9601 - accuracy: 0.3083 - val_loss: 9.4176 - val_accuracy: 0.3214\n",
            "Epoch 18/150\n",
            "235/235 [==============================] - 1s 2ms/step - loss: 9.6916 - accuracy: 0.3151 - val_loss: 9.1756 - val_accuracy: 0.3290\n",
            "Epoch 19/150\n",
            "235/235 [==============================] - 1s 2ms/step - loss: 9.4095 - accuracy: 0.3208 - val_loss: 8.9297 - val_accuracy: 0.3360\n",
            "Epoch 20/150\n",
            "235/235 [==============================] - 1s 2ms/step - loss: 9.1403 - accuracy: 0.3277 - val_loss: 8.6765 - val_accuracy: 0.3345\n",
            "Epoch 21/150\n",
            "235/235 [==============================] - 1s 2ms/step - loss: 8.9020 - accuracy: 0.3350 - val_loss: 8.4830 - val_accuracy: 0.3473\n",
            "Epoch 22/150\n",
            "235/235 [==============================] - 1s 2ms/step - loss: 8.6462 - accuracy: 0.3442 - val_loss: 8.2048 - val_accuracy: 0.3538\n",
            "Epoch 23/150\n",
            "235/235 [==============================] - 1s 2ms/step - loss: 8.3990 - accuracy: 0.3514 - val_loss: 7.9623 - val_accuracy: 0.3615\n",
            "Epoch 24/150\n",
            "235/235 [==============================] - 1s 2ms/step - loss: 8.1442 - accuracy: 0.3581 - val_loss: 7.7716 - val_accuracy: 0.3743\n",
            "Epoch 25/150\n",
            "235/235 [==============================] - 1s 2ms/step - loss: 7.9019 - accuracy: 0.3680 - val_loss: 7.5233 - val_accuracy: 0.3916\n",
            "Epoch 26/150\n",
            "235/235 [==============================] - 1s 2ms/step - loss: 7.6614 - accuracy: 0.3749 - val_loss: 7.3268 - val_accuracy: 0.3857\n",
            "Epoch 27/150\n",
            "235/235 [==============================] - 1s 2ms/step - loss: 7.4226 - accuracy: 0.3857 - val_loss: 7.1048 - val_accuracy: 0.4062\n",
            "Epoch 28/150\n",
            "235/235 [==============================] - 1s 2ms/step - loss: 7.1912 - accuracy: 0.3958 - val_loss: 6.9158 - val_accuracy: 0.4047\n",
            "Epoch 29/150\n",
            "235/235 [==============================] - 1s 2ms/step - loss: 6.9724 - accuracy: 0.4069 - val_loss: 6.7184 - val_accuracy: 0.4234\n",
            "Epoch 30/150\n",
            "235/235 [==============================] - 1s 2ms/step - loss: 6.7515 - accuracy: 0.4180 - val_loss: 6.5072 - val_accuracy: 0.4314\n",
            "Epoch 31/150\n",
            "235/235 [==============================] - 1s 2ms/step - loss: 6.5362 - accuracy: 0.4284 - val_loss: 6.3336 - val_accuracy: 0.4496\n",
            "Epoch 32/150\n",
            "235/235 [==============================] - 1s 2ms/step - loss: 6.3531 - accuracy: 0.4390 - val_loss: 6.1770 - val_accuracy: 0.4548\n",
            "Epoch 33/150\n",
            "235/235 [==============================] - 1s 3ms/step - loss: 6.1724 - accuracy: 0.4509 - val_loss: 6.0264 - val_accuracy: 0.4674\n",
            "Epoch 34/150\n",
            "235/235 [==============================] - 1s 3ms/step - loss: 6.0069 - accuracy: 0.4642 - val_loss: 5.8700 - val_accuracy: 0.4762\n",
            "Epoch 35/150\n",
            "235/235 [==============================] - 1s 3ms/step - loss: 5.8509 - accuracy: 0.4767 - val_loss: 5.7537 - val_accuracy: 0.4926\n",
            "Epoch 36/150\n",
            "235/235 [==============================] - 1s 4ms/step - loss: 5.7093 - accuracy: 0.4905 - val_loss: 5.6093 - val_accuracy: 0.5051\n",
            "Epoch 37/150\n",
            "235/235 [==============================] - 1s 2ms/step - loss: 5.5812 - accuracy: 0.5035 - val_loss: 5.5069 - val_accuracy: 0.5186\n",
            "Epoch 38/150\n",
            "235/235 [==============================] - 1s 2ms/step - loss: 5.4672 - accuracy: 0.5183 - val_loss: 5.4563 - val_accuracy: 0.5272\n",
            "Epoch 39/150\n",
            "235/235 [==============================] - 1s 2ms/step - loss: 5.3584 - accuracy: 0.5304 - val_loss: 5.3175 - val_accuracy: 0.5377\n",
            "Epoch 40/150\n",
            "235/235 [==============================] - 1s 2ms/step - loss: 5.2743 - accuracy: 0.5399 - val_loss: 5.2562 - val_accuracy: 0.5521\n",
            "Epoch 41/150\n",
            "235/235 [==============================] - 1s 2ms/step - loss: 5.1816 - accuracy: 0.5512 - val_loss: 5.1564 - val_accuracy: 0.5567\n",
            "Epoch 42/150\n",
            "235/235 [==============================] - 1s 2ms/step - loss: 5.1087 - accuracy: 0.5598 - val_loss: 5.1112 - val_accuracy: 0.5707\n",
            "Epoch 43/150\n",
            "235/235 [==============================] - 1s 2ms/step - loss: 5.0361 - accuracy: 0.5694 - val_loss: 5.0348 - val_accuracy: 0.5743\n",
            "Epoch 44/150\n",
            "235/235 [==============================] - 1s 2ms/step - loss: 4.9586 - accuracy: 0.5786 - val_loss: 4.9548 - val_accuracy: 0.5908\n",
            "Epoch 45/150\n",
            "235/235 [==============================] - 1s 2ms/step - loss: 4.8795 - accuracy: 0.5867 - val_loss: 4.9155 - val_accuracy: 0.5996\n",
            "Epoch 46/150\n",
            "235/235 [==============================] - 1s 2ms/step - loss: 4.7982 - accuracy: 0.6013 - val_loss: 4.7797 - val_accuracy: 0.6100\n",
            "Epoch 47/150\n",
            "235/235 [==============================] - 1s 2ms/step - loss: 4.7208 - accuracy: 0.6111 - val_loss: 4.6956 - val_accuracy: 0.6184\n",
            "Epoch 48/150\n",
            "235/235 [==============================] - 1s 2ms/step - loss: 4.6392 - accuracy: 0.6207 - val_loss: 4.6116 - val_accuracy: 0.6299\n",
            "Epoch 49/150\n",
            "235/235 [==============================] - 1s 2ms/step - loss: 4.5134 - accuracy: 0.6336 - val_loss: 4.4530 - val_accuracy: 0.6428\n",
            "Epoch 50/150\n",
            "235/235 [==============================] - 1s 3ms/step - loss: 4.3797 - accuracy: 0.6493 - val_loss: 4.3327 - val_accuracy: 0.6510\n",
            "Epoch 51/150\n",
            "235/235 [==============================] - 1s 3ms/step - loss: 4.2646 - accuracy: 0.6596 - val_loss: 4.2004 - val_accuracy: 0.6713\n",
            "Epoch 52/150\n",
            "235/235 [==============================] - 1s 2ms/step - loss: 4.1561 - accuracy: 0.6731 - val_loss: 4.1073 - val_accuracy: 0.6868\n",
            "Epoch 53/150\n",
            "235/235 [==============================] - 1s 2ms/step - loss: 4.0702 - accuracy: 0.6823 - val_loss: 4.0222 - val_accuracy: 0.6905\n",
            "Epoch 54/150\n",
            "235/235 [==============================] - 1s 3ms/step - loss: 3.9757 - accuracy: 0.6928 - val_loss: 3.9129 - val_accuracy: 0.7047\n",
            "Epoch 55/150\n",
            "235/235 [==============================] - 1s 3ms/step - loss: 3.8975 - accuracy: 0.7015 - val_loss: 3.8202 - val_accuracy: 0.7076\n",
            "Epoch 56/150\n",
            "235/235 [==============================] - 1s 3ms/step - loss: 3.8127 - accuracy: 0.7115 - val_loss: 3.7182 - val_accuracy: 0.7248\n",
            "Epoch 57/150\n",
            "235/235 [==============================] - 1s 3ms/step - loss: 3.7463 - accuracy: 0.7198 - val_loss: 3.6291 - val_accuracy: 0.7313\n",
            "Epoch 58/150\n",
            "235/235 [==============================] - 1s 3ms/step - loss: 3.6645 - accuracy: 0.7280 - val_loss: 3.5609 - val_accuracy: 0.7413\n",
            "Epoch 59/150\n",
            "235/235 [==============================] - 1s 2ms/step - loss: 3.5844 - accuracy: 0.7356 - val_loss: 3.4822 - val_accuracy: 0.7504\n",
            "Epoch 60/150\n",
            "235/235 [==============================] - 1s 2ms/step - loss: 3.5212 - accuracy: 0.7452 - val_loss: 3.4619 - val_accuracy: 0.7561\n",
            "Epoch 61/150\n",
            "235/235 [==============================] - 1s 2ms/step - loss: 3.4506 - accuracy: 0.7530 - val_loss: 3.3909 - val_accuracy: 0.7588\n",
            "Epoch 62/150\n",
            "235/235 [==============================] - 1s 2ms/step - loss: 3.3370 - accuracy: 0.7657 - val_loss: 3.2942 - val_accuracy: 0.7771\n",
            "Epoch 63/150\n",
            "235/235 [==============================] - 1s 2ms/step - loss: 3.1664 - accuracy: 0.7835 - val_loss: 3.0264 - val_accuracy: 0.8069\n",
            "Epoch 64/150\n",
            "235/235 [==============================] - 1s 2ms/step - loss: 3.0138 - accuracy: 0.7988 - val_loss: 2.9534 - val_accuracy: 0.8149\n",
            "Epoch 65/150\n",
            "235/235 [==============================] - 1s 2ms/step - loss: 2.9464 - accuracy: 0.8053 - val_loss: 2.9015 - val_accuracy: 0.8189\n",
            "Epoch 66/150\n",
            "235/235 [==============================] - 1s 3ms/step - loss: 2.8939 - accuracy: 0.8087 - val_loss: 2.8426 - val_accuracy: 0.8228\n",
            "Epoch 67/150\n",
            "235/235 [==============================] - 1s 2ms/step - loss: 2.8510 - accuracy: 0.8144 - val_loss: 2.7710 - val_accuracy: 0.8263\n",
            "Epoch 68/150\n",
            "235/235 [==============================] - 1s 2ms/step - loss: 2.8018 - accuracy: 0.8177 - val_loss: 2.7401 - val_accuracy: 0.8303\n",
            "Epoch 69/150\n",
            "235/235 [==============================] - 1s 2ms/step - loss: 2.7667 - accuracy: 0.8208 - val_loss: 2.6906 - val_accuracy: 0.8326\n",
            "Epoch 70/150\n",
            "235/235 [==============================] - 1s 2ms/step - loss: 2.7233 - accuracy: 0.8238 - val_loss: 2.7323 - val_accuracy: 0.8275\n",
            "Epoch 71/150\n",
            "235/235 [==============================] - 1s 2ms/step - loss: 2.7187 - accuracy: 0.8242 - val_loss: 2.6534 - val_accuracy: 0.8384\n",
            "Epoch 72/150\n",
            "235/235 [==============================] - 1s 2ms/step - loss: 2.6757 - accuracy: 0.8278 - val_loss: 2.6769 - val_accuracy: 0.8354\n",
            "Epoch 73/150\n",
            "235/235 [==============================] - 1s 2ms/step - loss: 2.6669 - accuracy: 0.8281 - val_loss: 2.6792 - val_accuracy: 0.8410\n",
            "Epoch 74/150\n",
            "235/235 [==============================] - 1s 2ms/step - loss: 2.6400 - accuracy: 0.8300 - val_loss: 2.5783 - val_accuracy: 0.8476\n",
            "Epoch 75/150\n",
            "235/235 [==============================] - 1s 2ms/step - loss: 2.6336 - accuracy: 0.8317 - val_loss: 2.6011 - val_accuracy: 0.8492\n",
            "Epoch 76/150\n",
            "235/235 [==============================] - 1s 2ms/step - loss: 2.6119 - accuracy: 0.8344 - val_loss: 2.6066 - val_accuracy: 0.8476\n",
            "Epoch 77/150\n",
            "235/235 [==============================] - 1s 4ms/step - loss: 2.5994 - accuracy: 0.8346 - val_loss: 2.6096 - val_accuracy: 0.8423\n",
            "Epoch 78/150\n",
            "235/235 [==============================] - 1s 3ms/step - loss: 2.5949 - accuracy: 0.8347 - val_loss: 2.5937 - val_accuracy: 0.8501\n",
            "Epoch 79/150\n",
            "235/235 [==============================] - 1s 4ms/step - loss: 2.5752 - accuracy: 0.8368 - val_loss: 2.5676 - val_accuracy: 0.8503\n",
            "Epoch 80/150\n",
            "235/235 [==============================] - 1s 2ms/step - loss: 2.5570 - accuracy: 0.8383 - val_loss: 2.6493 - val_accuracy: 0.8503\n",
            "Epoch 81/150\n",
            "235/235 [==============================] - 1s 2ms/step - loss: 2.5509 - accuracy: 0.8399 - val_loss: 2.6489 - val_accuracy: 0.8522\n",
            "Epoch 82/150\n",
            "235/235 [==============================] - 1s 2ms/step - loss: 2.5491 - accuracy: 0.8397 - val_loss: 2.5579 - val_accuracy: 0.8510\n",
            "Epoch 83/150\n",
            "235/235 [==============================] - 1s 2ms/step - loss: 2.5386 - accuracy: 0.8419 - val_loss: 2.5606 - val_accuracy: 0.8540\n",
            "Epoch 84/150\n",
            "235/235 [==============================] - 1s 2ms/step - loss: 2.5216 - accuracy: 0.8413 - val_loss: 2.7069 - val_accuracy: 0.8439\n",
            "Epoch 85/150\n",
            "235/235 [==============================] - 1s 2ms/step - loss: 2.5093 - accuracy: 0.8437 - val_loss: 2.5362 - val_accuracy: 0.8575\n",
            "Epoch 86/150\n",
            "235/235 [==============================] - 1s 2ms/step - loss: 2.5057 - accuracy: 0.8446 - val_loss: 2.4857 - val_accuracy: 0.8578\n",
            "Epoch 87/150\n",
            "235/235 [==============================] - 1s 2ms/step - loss: 2.4843 - accuracy: 0.8465 - val_loss: 2.5698 - val_accuracy: 0.8533\n",
            "Epoch 88/150\n",
            "235/235 [==============================] - 1s 2ms/step - loss: 2.4715 - accuracy: 0.8479 - val_loss: 2.5046 - val_accuracy: 0.8580\n",
            "Epoch 89/150\n",
            "235/235 [==============================] - 1s 2ms/step - loss: 2.4706 - accuracy: 0.8491 - val_loss: 2.5527 - val_accuracy: 0.8592\n",
            "Epoch 90/150\n",
            "235/235 [==============================] - 1s 2ms/step - loss: 2.4541 - accuracy: 0.8505 - val_loss: 2.5117 - val_accuracy: 0.8594\n",
            "Epoch 91/150\n",
            "235/235 [==============================] - 1s 5ms/step - loss: 2.4366 - accuracy: 0.8529 - val_loss: 2.4723 - val_accuracy: 0.8644\n",
            "Epoch 92/150\n",
            "235/235 [==============================] - 1s 6ms/step - loss: 2.4197 - accuracy: 0.8542 - val_loss: 2.4720 - val_accuracy: 0.8669\n",
            "Epoch 93/150\n",
            "235/235 [==============================] - 1s 4ms/step - loss: 2.3974 - accuracy: 0.8567 - val_loss: 2.5942 - val_accuracy: 0.8662\n",
            "Epoch 94/150\n",
            "235/235 [==============================] - 1s 6ms/step - loss: 2.3841 - accuracy: 0.8582 - val_loss: 2.4354 - val_accuracy: 0.8670\n",
            "Epoch 95/150\n",
            "235/235 [==============================] - 2s 9ms/step - loss: 2.3514 - accuracy: 0.8600 - val_loss: 2.3804 - val_accuracy: 0.8694\n",
            "Epoch 96/150\n",
            "235/235 [==============================] - 2s 8ms/step - loss: 2.3359 - accuracy: 0.8626 - val_loss: 2.4765 - val_accuracy: 0.8559\n",
            "Epoch 97/150\n",
            "235/235 [==============================] - 1s 4ms/step - loss: 2.3225 - accuracy: 0.8617 - val_loss: 2.4447 - val_accuracy: 0.8715\n",
            "Epoch 98/150\n",
            "235/235 [==============================] - 1s 6ms/step - loss: 2.3065 - accuracy: 0.8662 - val_loss: 2.3308 - val_accuracy: 0.8781\n",
            "Epoch 99/150\n",
            "235/235 [==============================] - 1s 2ms/step - loss: 2.2868 - accuracy: 0.8677 - val_loss: 2.3120 - val_accuracy: 0.8784\n",
            "Epoch 100/150\n",
            "235/235 [==============================] - 1s 2ms/step - loss: 2.2651 - accuracy: 0.8707 - val_loss: 2.3153 - val_accuracy: 0.8831\n",
            "Epoch 101/150\n",
            "235/235 [==============================] - 1s 2ms/step - loss: 2.2626 - accuracy: 0.8721 - val_loss: 2.2848 - val_accuracy: 0.8774\n",
            "Epoch 102/150\n",
            "235/235 [==============================] - 1s 2ms/step - loss: 2.2358 - accuracy: 0.8726 - val_loss: 2.2528 - val_accuracy: 0.8813\n",
            "Epoch 103/150\n",
            "235/235 [==============================] - 1s 2ms/step - loss: 2.2131 - accuracy: 0.8758 - val_loss: 2.2695 - val_accuracy: 0.8814\n",
            "Epoch 104/150\n",
            "235/235 [==============================] - 1s 2ms/step - loss: 2.2113 - accuracy: 0.8763 - val_loss: 2.2668 - val_accuracy: 0.8808\n",
            "Epoch 105/150\n",
            "235/235 [==============================] - 1s 2ms/step - loss: 2.1828 - accuracy: 0.8790 - val_loss: 2.1623 - val_accuracy: 0.8876\n",
            "Epoch 106/150\n",
            "235/235 [==============================] - 1s 2ms/step - loss: 2.1752 - accuracy: 0.8799 - val_loss: 2.1555 - val_accuracy: 0.8913\n",
            "Epoch 107/150\n",
            "235/235 [==============================] - 1s 2ms/step - loss: 2.1519 - accuracy: 0.8816 - val_loss: 2.1841 - val_accuracy: 0.8824\n",
            "Epoch 108/150\n",
            "235/235 [==============================] - 1s 2ms/step - loss: 2.1493 - accuracy: 0.8814 - val_loss: 2.3584 - val_accuracy: 0.8774\n",
            "Epoch 109/150\n",
            "235/235 [==============================] - 1s 2ms/step - loss: 2.1572 - accuracy: 0.8806 - val_loss: 2.3042 - val_accuracy: 0.8796\n",
            "Epoch 110/150\n",
            "235/235 [==============================] - 1s 3ms/step - loss: 2.1464 - accuracy: 0.8816 - val_loss: 2.1401 - val_accuracy: 0.8910\n",
            "Epoch 111/150\n",
            "235/235 [==============================] - 1s 3ms/step - loss: 2.0938 - accuracy: 0.8870 - val_loss: 2.1244 - val_accuracy: 0.8916\n",
            "Epoch 112/150\n",
            "235/235 [==============================] - 1s 4ms/step - loss: 2.1041 - accuracy: 0.8858 - val_loss: 2.1022 - val_accuracy: 0.8904\n",
            "Epoch 113/150\n",
            "235/235 [==============================] - 1s 3ms/step - loss: 2.0921 - accuracy: 0.8875 - val_loss: 2.0715 - val_accuracy: 0.8953\n",
            "Epoch 114/150\n",
            "235/235 [==============================] - 1s 2ms/step - loss: 2.0730 - accuracy: 0.8896 - val_loss: 2.0616 - val_accuracy: 0.8984\n",
            "Epoch 115/150\n",
            "235/235 [==============================] - 1s 2ms/step - loss: 2.0672 - accuracy: 0.8886 - val_loss: 2.0361 - val_accuracy: 0.8980\n",
            "Epoch 116/150\n",
            "235/235 [==============================] - 1s 2ms/step - loss: 2.0611 - accuracy: 0.8917 - val_loss: 2.0598 - val_accuracy: 0.8951\n",
            "Epoch 117/150\n",
            "235/235 [==============================] - 1s 2ms/step - loss: 2.0451 - accuracy: 0.8907 - val_loss: 2.0702 - val_accuracy: 0.9023\n",
            "Epoch 118/150\n",
            "235/235 [==============================] - 1s 2ms/step - loss: 2.0464 - accuracy: 0.8919 - val_loss: 2.0646 - val_accuracy: 0.8963\n",
            "Epoch 119/150\n",
            "235/235 [==============================] - 1s 2ms/step - loss: 2.0244 - accuracy: 0.8942 - val_loss: 2.0500 - val_accuracy: 0.8978\n",
            "Epoch 120/150\n",
            "235/235 [==============================] - 1s 2ms/step - loss: 2.0407 - accuracy: 0.8919 - val_loss: 2.0382 - val_accuracy: 0.8993\n",
            "Epoch 121/150\n",
            "235/235 [==============================] - 1s 2ms/step - loss: 2.0432 - accuracy: 0.8935 - val_loss: 2.0631 - val_accuracy: 0.8953\n",
            "Epoch 122/150\n",
            "235/235 [==============================] - 1s 2ms/step - loss: 1.9996 - accuracy: 0.8959 - val_loss: 1.9966 - val_accuracy: 0.9032\n",
            "Epoch 123/150\n",
            "235/235 [==============================] - 1s 2ms/step - loss: 1.9906 - accuracy: 0.8989 - val_loss: 2.0113 - val_accuracy: 0.9060\n",
            "Epoch 124/150\n",
            "235/235 [==============================] - 1s 2ms/step - loss: 2.0042 - accuracy: 0.8961 - val_loss: 1.9582 - val_accuracy: 0.9072\n",
            "Epoch 125/150\n",
            "235/235 [==============================] - 1s 2ms/step - loss: 1.9782 - accuracy: 0.8983 - val_loss: 1.9886 - val_accuracy: 0.9037\n",
            "Epoch 126/150\n",
            "235/235 [==============================] - 1s 2ms/step - loss: 1.9783 - accuracy: 0.8999 - val_loss: 1.9636 - val_accuracy: 0.9085\n",
            "Epoch 127/150\n",
            "235/235 [==============================] - 1s 2ms/step - loss: 1.9486 - accuracy: 0.9024 - val_loss: 1.9697 - val_accuracy: 0.9082\n",
            "Epoch 128/150\n",
            "235/235 [==============================] - 1s 2ms/step - loss: 1.9629 - accuracy: 0.9008 - val_loss: 1.9562 - val_accuracy: 0.9137\n",
            "Epoch 129/150\n",
            "235/235 [==============================] - 1s 2ms/step - loss: 1.9454 - accuracy: 0.9033 - val_loss: 1.9105 - val_accuracy: 0.9082\n",
            "Epoch 130/150\n",
            "235/235 [==============================] - 1s 2ms/step - loss: 1.9216 - accuracy: 0.9061 - val_loss: 1.9336 - val_accuracy: 0.9122\n",
            "Epoch 131/150\n",
            "235/235 [==============================] - 1s 3ms/step - loss: 1.9212 - accuracy: 0.9057 - val_loss: 1.8953 - val_accuracy: 0.9154\n",
            "Epoch 132/150\n",
            "235/235 [==============================] - 1s 4ms/step - loss: 1.9206 - accuracy: 0.9056 - val_loss: 1.9363 - val_accuracy: 0.9153\n",
            "Epoch 133/150\n",
            "235/235 [==============================] - 1s 3ms/step - loss: 1.9318 - accuracy: 0.9043 - val_loss: 1.9208 - val_accuracy: 0.9165\n",
            "Epoch 134/150\n",
            "235/235 [==============================] - 1s 3ms/step - loss: 1.9076 - accuracy: 0.9065 - val_loss: 1.9225 - val_accuracy: 0.9141\n",
            "Epoch 135/150\n",
            "235/235 [==============================] - 1s 2ms/step - loss: 1.8914 - accuracy: 0.9097 - val_loss: 1.9307 - val_accuracy: 0.9146\n",
            "Epoch 136/150\n",
            "235/235 [==============================] - 1s 2ms/step - loss: 1.8927 - accuracy: 0.9095 - val_loss: 1.9400 - val_accuracy: 0.9099\n",
            "Epoch 137/150\n",
            "235/235 [==============================] - 1s 2ms/step - loss: 1.8887 - accuracy: 0.9094 - val_loss: 1.8851 - val_accuracy: 0.9162\n",
            "Epoch 138/150\n",
            "235/235 [==============================] - 1s 2ms/step - loss: 1.8783 - accuracy: 0.9106 - val_loss: 1.8850 - val_accuracy: 0.9197\n",
            "Epoch 139/150\n",
            "235/235 [==============================] - 1s 2ms/step - loss: 1.9320 - accuracy: 0.9061 - val_loss: 2.0621 - val_accuracy: 0.8947\n",
            "Epoch 140/150\n",
            "235/235 [==============================] - 1s 2ms/step - loss: 1.8710 - accuracy: 0.9119 - val_loss: 1.8905 - val_accuracy: 0.9145\n",
            "Epoch 141/150\n",
            "235/235 [==============================] - 1s 2ms/step - loss: 1.8528 - accuracy: 0.9136 - val_loss: 1.8943 - val_accuracy: 0.9180\n",
            "Epoch 142/150\n",
            "235/235 [==============================] - 1s 2ms/step - loss: 1.8518 - accuracy: 0.9127 - val_loss: 1.9258 - val_accuracy: 0.9151\n",
            "Epoch 143/150\n",
            "235/235 [==============================] - 1s 2ms/step - loss: 1.8428 - accuracy: 0.9145 - val_loss: 1.8633 - val_accuracy: 0.9192\n",
            "Epoch 144/150\n",
            "235/235 [==============================] - 1s 2ms/step - loss: 1.8421 - accuracy: 0.9152 - val_loss: 1.9446 - val_accuracy: 0.9181\n",
            "Epoch 145/150\n",
            "235/235 [==============================] - 1s 2ms/step - loss: 1.8345 - accuracy: 0.9156 - val_loss: 1.8728 - val_accuracy: 0.9183\n",
            "Epoch 146/150\n",
            "235/235 [==============================] - 1s 2ms/step - loss: 1.8573 - accuracy: 0.9158 - val_loss: 1.7999 - val_accuracy: 0.9259\n",
            "Epoch 147/150\n",
            "235/235 [==============================] - 1s 2ms/step - loss: 1.8227 - accuracy: 0.9176 - val_loss: 1.8517 - val_accuracy: 0.9250\n",
            "Epoch 148/150\n",
            "235/235 [==============================] - 1s 2ms/step - loss: 1.8024 - accuracy: 0.9189 - val_loss: 1.8409 - val_accuracy: 0.9246\n",
            "Epoch 149/150\n",
            "235/235 [==============================] - 1s 2ms/step - loss: 1.8111 - accuracy: 0.9181 - val_loss: 1.8119 - val_accuracy: 0.9290\n",
            "Epoch 150/150\n",
            "235/235 [==============================] - 1s 2ms/step - loss: 1.7945 - accuracy: 0.9207 - val_loss: 1.8177 - val_accuracy: 0.9246\n"
          ]
        }
      ]
    },
    {
      "cell_type": "code",
      "source": [
        "plt.figure(figsize=(20, 5))\n",
        "\n",
        "ax = plt.subplot(1,2,1)\n",
        "plt.plot(classifier_hist.history['loss'])\n",
        "plt.plot(classifier_hist.history['val_loss'])\n",
        "plt.title('model loss')\n",
        "plt.ylabel('Loss')\n",
        "plt.xlabel('epoch')\n",
        "plt.legend(['train', 'val'], loc='upper left')\n",
        "\n",
        "ax = plt.subplot(1,2,2)\n",
        "plt.plot(classifier_hist.history['accuracy'])\n",
        "plt.plot(classifier_hist.history['val_accuracy'])\n",
        "plt.title('model accuracy')\n",
        "plt.ylabel('Accuracy')\n",
        "plt.xlabel('epoch')\n",
        "plt.legend(['train', 'val'], loc='upper left')\n",
        "\n"
      ],
      "metadata": {
        "colab": {
          "base_uri": "https://localhost:8080/",
          "height": 367
        },
        "id": "fIWqBcuBOYgf",
        "outputId": "318d707a-07c2-420d-b7a4-bf0b4eea8023"
      },
      "execution_count": 23,
      "outputs": [
        {
          "output_type": "execute_result",
          "data": {
            "text/plain": [
              "<matplotlib.legend.Legend at 0x7fa227e8f760>"
            ]
          },
          "metadata": {},
          "execution_count": 23
        },
        {
          "output_type": "display_data",
          "data": {
            "text/plain": [
              "<Figure size 1440x360 with 2 Axes>"
            ],
            "image/png": "[encoded data removed]"
          },
          "metadata": {
            "needs_background": "light"
          }
        }
      ]
    },
    {
      "cell_type": "code",
      "source": [
        "y_proba = classifier.predict(encoded_imgs_test)\n",
        "y_pred =y_proba.argmax(axis=-1)\n",
        "Y_test = [np.argmax(y, axis=None, out=None) for y in Y_test]"
      ],
      "metadata": {
        "colab": {
          "base_uri": "https://localhost:8080/"
        },
        "id": "4QdtkeMjQL5Q",
        "outputId": "e22b3a40-54a7-480d-9814-cf63b790e700"
      },
      "execution_count": 24,
      "outputs": [
        {
          "output_type": "stream",
          "name": "stdout",
          "text": [
            "313/313 [==============================] - 0s 1ms/step\n"
          ]
        }
      ]
    },
    {
      "cell_type": "code",
      "source": [
        "cm = confusion_matrix(Y_test, y_pred)\n",
        "\n",
        "disp = ConfusionMatrixDisplay(confusion_matrix=cm)\n",
        "\n",
        "disp.plot(cmap=plt.cm.Blues)\n",
        "plt.show()"
      ],
      "metadata": {
        "colab": {
          "base_uri": "https://localhost:8080/",
          "height": 279
        },
        "id": "dR88oiuhTtW_",
        "outputId": "bed96d58-9ff3-4718-a043-65a927f0e1f9"
      },
      "execution_count": 25,
      "outputs": [
        {
          "output_type": "display_data",
          "data": {
            "text/plain": [
              "<Figure size 432x288 with 2 Axes>"
            ],
            "image/png": "[encoded data removed]"
          },
          "metadata": {
            "needs_background": "light"
          }
        }
      ]
    }
  ]
}