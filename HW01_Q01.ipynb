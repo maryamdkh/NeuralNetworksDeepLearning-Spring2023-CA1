{
  "nbformat": 4,
  "nbformat_minor": 0,
  "metadata": {
    "colab": {
      "provenance": []
    },
    "kernelspec": {
      "name": "python3",
      "display_name": "Python 3"
    },
    "language_info": {
      "name": "python"
    }
  },
  "cells": [
    {
      "cell_type": "code",
      "execution_count": 1,
      "metadata": {
        "id": "reHEVVJffghw"
      },
      "outputs": [],
      "source": [
        "import numpy as np\n",
        "import itertools"
      ]
    },
    {
      "cell_type": "code",
      "source": [
        "class McCulloch_Pitts_neuron():\n",
        "\n",
        "  def __init__(self , weights , threshold):\n",
        "    self.weights = weights\n",
        "    self.threshold = threshold\n",
        "\n",
        "  def model(self , x):\n",
        "    if self.weights @ x >= self.threshold:\n",
        "        return 1\n",
        "    else:\n",
        "        return 0"
      ],
      "metadata": {
        "id": "S7oinVRWN93T"
      },
      "execution_count": 2,
      "outputs": []
    },
    {
      "cell_type": "code",
      "source": [
        "def DFA(state , input):\n",
        "  neur1 = McCulloch_Pitts_neuron([2, 2 , -1] , 2)\n",
        "  neur2 = McCulloch_Pitts_neuron([2, 0 , 2] , 2)\n",
        "  neur3 = McCulloch_Pitts_neuron([2, 1 , -1] , 2)\n",
        "\n",
        "  z1 = neur1.model(np.array([state[0], state[1] , input]))\n",
        "  z2 = neur2.model(np.array([state[0], state[1] , input]))\n",
        "  z3 = neur3.model(np.array([state[0], state[1] , input]))\n",
        "\n",
        "  # 3 bit output\n",
        "  # return str(z1) + str(z2) + str(z3)\n",
        "  return list([z1,z2,z3])\n"
      ],
      "metadata": {
        "id": "4KwFdyzROxUC"
      },
      "execution_count": 3,
      "outputs": []
    },
    {
      "cell_type": "code",
      "source": [
        "# inputs\n",
        "state_b = [1, 0]\n",
        "state = list(itertools.product(state_b, state_b))\n",
        "input = [1, 0]\n",
        "X = list(itertools.product(state, input))\n",
        "\n",
        "for tup in X:\n",
        "    res = DFA(tup[0], tup[1])\n",
        "    print(\"DFA with current state as\", str(tup[0][0]) + str(tup[0][1]), \"with input as\",\n",
        "          str(tup[1]), \"goes to state \", str(res[0]) + str(res[1]), \" with output \" , str(res[2]))"
      ],
      "metadata": {
        "colab": {
          "base_uri": "https://localhost:8080/"
        },
        "id": "wncfFdlsQnzV",
        "outputId": "b2e4acc8-994a-48f7-b605-8b58c7d56f84"
      },
      "execution_count": 4,
      "outputs": [
        {
          "output_type": "stream",
          "name": "stdout",
          "text": [
            "DFA with current state as 11 with input as 1 goes to state  11  with output  1\n",
            "DFA with current state as 11 with input as 0 goes to state  11  with output  1\n",
            "DFA with current state as 10 with input as 1 goes to state  01  with output  0\n",
            "DFA with current state as 10 with input as 0 goes to state  11  with output  1\n",
            "DFA with current state as 01 with input as 1 goes to state  01  with output  0\n",
            "DFA with current state as 01 with input as 0 goes to state  10  with output  0\n",
            "DFA with current state as 00 with input as 1 goes to state  01  with output  0\n",
            "DFA with current state as 00 with input as 0 goes to state  00  with output  0\n"
          ]
        }
      ]
    }
  ]
}